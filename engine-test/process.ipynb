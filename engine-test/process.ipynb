{
 "cells": [
  {
   "cell_type": "code",
   "execution_count": 6,
   "id": "1e12f3ef",
   "metadata": {},
   "outputs": [
    {
     "name": "stdout",
     "output_type": "stream",
     "text": [
      "\n",
      "        采样设备：\n",
      "            - 设备类型：音频输入\n",
      "            - 序号：20\n",
      "            - 名称：扬声器 (Realtek(R) Audio) [Loopback]\n",
      "            - 最大输入通道数：2\n",
      "            - 默认低输入延迟：0.003s\n",
      "            - 默认高输入延迟：0.01s\n",
      "            - 默认采样率：48000.0Hz\n",
      "            - 是否回环设备：True\n",
      "\n",
      "        音频样本块大小：2400\n",
      "        样本位宽：2\n",
      "        音频数据格式：8\n",
      "        音频通道数：2\n",
      "        音频采样率：48000\n",
      "        \n"
     ]
    }
   ],
   "source": [
    "import sys\n",
    "import os\n",
    "\n",
    "current_dir = os.getcwd() \n",
    "sys.path.append(os.path.join(current_dir, '../caption-engine'))\n",
    "\n",
    "from sysaudio.win import AudioStream\n",
    "\n",
    "stream = AudioStream()\n",
    "stream.printInfo()"
   ]
  },
  {
   "cell_type": "code",
   "execution_count": null,
   "id": "d4c8ad80",
   "metadata": {},
   "outputs": [],
   "source": [
    "stream.openStream()\n",
    "SEC = 2\n",
    "for i in range(SEC * 20):\n",
    "    data = stream.stream.read(stream.CHUNK) # type: ignore\n",
    "    "
   ]
  }
 ],
 "metadata": {
  "kernelspec": {
   "display_name": "mystd",
   "language": "python",
   "name": "python3"
  },
  "language_info": {
   "codemirror_mode": {
    "name": "ipython",
    "version": 3
   },
   "file_extension": ".py",
   "mimetype": "text/x-python",
   "name": "python",
   "nbconvert_exporter": "python",
   "pygments_lexer": "ipython3",
   "version": "3.10.12"
  }
 },
 "nbformat": 4,
 "nbformat_minor": 5
}
